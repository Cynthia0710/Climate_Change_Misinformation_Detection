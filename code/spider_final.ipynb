{
 "cells": [
  {
   "cell_type": "code",
   "execution_count": null,
   "metadata": {},
   "outputs": [],
   "source": [
    "import urllib\n",
    "import re\n",
    "import time\n",
    "from bs4 import BeautifulSoup\n",
    "\n",
    "url = \"https://www.bbc.com/news/world-europe-52615733\"\n",
    "page = urllib.request.urlopen(url)\n",
    "html = page.read()\n",
    "bs0bj=BeautifulSoup(html)\n",
    "namelist=bs0bj.findAll(\"p\") # bbc & the conversation\n",
    "text = \"\"\n",
    "for name in namelist:\n",
    "    text = text + name.get_text()\n",
    "print(text+\"\\n\")"
   ]
  }
 ],
 "metadata": {
  "kernelspec": {
   "display_name": "Python 3",
   "language": "python",
   "name": "python3"
  },
  "language_info": {
   "codemirror_mode": {
    "name": "ipython",
    "version": 3
   },
   "file_extension": ".py",
   "mimetype": "text/x-python",
   "name": "python",
   "nbconvert_exporter": "python",
   "pygments_lexer": "ipython3",
   "version": "3.7.4"
  }
 },
 "nbformat": 4,
 "nbformat_minor": 2
}
